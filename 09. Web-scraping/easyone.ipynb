{
 "cells": [
  {
   "cell_type": "code",
   "execution_count": 28,
   "metadata": {},
   "outputs": [],
   "source": [
    "import requests\n",
    "from bs4 import BeautifulSoup\n",
    "import pandas as pd"
   ]
  },
  {
   "cell_type": "code",
   "execution_count": 29,
   "metadata": {},
   "outputs": [
    {
     "data": {
      "text/plain": [
       "<Response [200]>"
      ]
     },
     "execution_count": 29,
     "metadata": {},
     "output_type": "execute_result"
    }
   ],
   "source": [
    "page = requests.get(\"https://forecast.weather.gov/MapClick.php?x=276&y=148&site=lox&zmx=&zmy=&map_x=276&map_y=148#.YgH6GOpBxPY\")\n",
    "page"
   ]
  },
  {
   "cell_type": "code",
   "execution_count": 30,
   "metadata": {},
   "outputs": [],
   "source": [
    "soup = BeautifulSoup(page.content, 'html.parser')"
   ]
  },
  {
   "cell_type": "code",
   "execution_count": 31,
   "metadata": {},
   "outputs": [],
   "source": [
    "days_l = []\n",
    "desc_l = []\n",
    "temp_l = []"
   ]
  },
  {
   "cell_type": "code",
   "execution_count": 32,
   "metadata": {},
   "outputs": [
    {
     "name": "stdout",
     "output_type": "stream",
     "text": [
      "Tuesday\n",
      "Wednesday\n",
      "Thursday\n",
      "Friday\n"
     ]
    }
   ],
   "source": [
    "def get_day_days():\n",
    "    days_d = soup.find_all('p', class_ = \"period-name\")[1::2]\n",
    "    for d in days_d:\n",
    "        days_d_data = d.text\n",
    "        return \n",
    "get_day_days()\n"
   ]
  },
  {
   "cell_type": "code",
   "execution_count": 33,
   "metadata": {},
   "outputs": [
    {
     "name": "stdout",
     "output_type": "stream",
     "text": [
      "Tonight\n",
      "TuesdayNight\n",
      "WednesdayNight\n",
      "ThursdayNight\n",
      "FridayNight\n"
     ]
    }
   ],
   "source": [
    "def get_night_days():\n",
    "    days_n = soup.find_all('p', class_ = \"period-name\")[::2]\n",
    "    for day in days_n:\n",
    "        days_n_data = day.text\n",
    "        print(days_n_data)\n",
    "get_night_days()\n",
    "\n",
    "    "
   ]
  },
  {
   "cell_type": "code",
   "execution_count": 34,
   "metadata": {},
   "outputs": [
    {
     "name": "stdout",
     "output_type": "stream",
     "text": [
      "Sunny\n",
      "Sunny\n",
      "Sunny\n",
      "Sunny\n"
     ]
    }
   ],
   "source": [
    "def get_description_d():\n",
    "    desc_d = soup.find_all('p', class_=\"short-desc\")[1::2]\n",
    "    for des_d in desc_d:\n",
    "        desc_d_data = des_d.text\n",
    "        print(desc_d_data)\n",
    "get_description_d()\n"
   ]
  },
  {
   "cell_type": "code",
   "execution_count": 20,
   "metadata": {},
   "outputs": [
    {
     "name": "stdout",
     "output_type": "stream",
     "text": [
      "Mostly Clear\n",
      "Mostly Clear\n",
      "Mostly Clear\n",
      "Clear\n",
      "Mostly Clear\n"
     ]
    }
   ],
   "source": [
    "def get_description_n():\n",
    "    desc_n = soup.find_all('p', class_=\"short-desc\")[0::2]\n",
    "    for des_n in desc_n:\n",
    "        desc_n_data = des_n.text\n",
    "        print(desc_n_data)\n",
    "get_description_n()"
   ]
  },
  {
   "cell_type": "code",
   "execution_count": 35,
   "metadata": {},
   "outputs": [
    {
     "name": "stdout",
     "output_type": "stream",
     "text": [
      "High: 78 °F\n",
      "High: 86 °F\n",
      "High: 88 °F\n",
      "High: 86 °F\n"
     ]
    }
   ],
   "source": [
    "def get_high_temperature():\n",
    "    temp_high = soup.find_all('p', class_=\"temp temp-high\")\n",
    "    for t in temp_high:\n",
    "        temp_high_data = t.text\n",
    "        print(temp_high_data)\n",
    "get_high_temperature()"
   ]
  },
  {
   "cell_type": "code",
   "execution_count": 36,
   "metadata": {},
   "outputs": [
    {
     "name": "stdout",
     "output_type": "stream",
     "text": [
      "Low: 53 °F\n",
      "Low: 54 °F\n",
      "Low: 55 °F\n",
      "Low: 56 °F\n",
      "Low: 55 °F\n"
     ]
    }
   ],
   "source": [
    "def get_low_temperature():\n",
    "    temp_low = soup.find_all('p', class_=\"temp temp-low\")\n",
    "    for t in temp_low:\n",
    "        temp_low_data = t.text\n",
    "        print(temp_low_data)\n",
    "get_low_temperature()"
   ]
  }
 ],
 "metadata": {
  "interpreter": {
   "hash": "d1149800258fca5f77b80b7ad0b39fa29894bab1cbb76b084b2d2d6ed337cc96"
  },
  "kernelspec": {
   "display_name": "Python 3.9.7 ('ai')",
   "language": "python",
   "name": "python3"
  },
  "language_info": {
   "codemirror_mode": {
    "name": "ipython",
    "version": 3
   },
   "file_extension": ".py",
   "mimetype": "text/x-python",
   "name": "python",
   "nbconvert_exporter": "python",
   "pygments_lexer": "ipython3",
   "version": "3.9.7"
  },
  "orig_nbformat": 4
 },
 "nbformat": 4,
 "nbformat_minor": 2
}
